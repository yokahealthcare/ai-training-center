{
 "cells": [
  {
   "cell_type": "code",
   "execution_count": 1,
   "id": "177f7359-a9c1-4ec3-b2c0-2c44fc34710c",
   "metadata": {},
   "outputs": [
    {
     "name": "stderr",
     "output_type": "stream",
     "text": [
      "2023-12-11 20:22:57.666353: I tensorflow/core/util/port.cc:113] oneDNN custom operations are on. You may see slightly different numerical results due to floating-point round-off errors from different computation orders. To turn them off, set the environment variable `TF_ENABLE_ONEDNN_OPTS=0`.\n",
      "2023-12-11 20:22:57.687053: E external/local_xla/xla/stream_executor/cuda/cuda_dnn.cc:9261] Unable to register cuDNN factory: Attempting to register factory for plugin cuDNN when one has already been registered\n",
      "2023-12-11 20:22:57.687074: E external/local_xla/xla/stream_executor/cuda/cuda_fft.cc:607] Unable to register cuFFT factory: Attempting to register factory for plugin cuFFT when one has already been registered\n",
      "2023-12-11 20:22:57.687548: E external/local_xla/xla/stream_executor/cuda/cuda_blas.cc:1515] Unable to register cuBLAS factory: Attempting to register factory for plugin cuBLAS when one has already been registered\n",
      "2023-12-11 20:22:57.691311: I tensorflow/core/platform/cpu_feature_guard.cc:182] This TensorFlow binary is optimized to use available CPU instructions in performance-critical operations.\n",
      "To enable the following instructions: AVX2 AVX512F AVX512_VNNI FMA, in other operations, rebuild TensorFlow with the appropriate compiler flags.\n",
      "2023-12-11 20:22:58.129960: W tensorflow/compiler/tf2tensorrt/utils/py_utils.cc:38] TF-TRT Warning: Could not find TensorRT\n"
     ]
    }
   ],
   "source": [
    "import time\n",
    "from pprint import pprint\n",
    "from concurrent.futures import ProcessPoolExecutor\n",
    "\n",
    "import cv2\n",
    "import torch\n",
    "import mediapipe as mp"
   ]
  },
  {
   "cell_type": "code",
   "execution_count": 2,
   "id": "0b065eba-3be1-4499-ade4-fbcf7de8f5b2",
   "metadata": {},
   "outputs": [],
   "source": [
    "class PersonDetection():\n",
    "    def __init__(self, yolo_model):\n",
    "        self.model = yolo_model\n",
    "        # We are only intrested in detecting person\n",
    "        self.model.classes=[0]\n",
    "        \n",
    "        self.frame = None\n",
    "        self.result = None\n",
    "\n",
    "    def set_frame(self, frame):\n",
    "        self.frame = frame\n",
    "    \n",
    "    def detect(self):\n",
    "        # Inference\n",
    "        self.result = self.model(self.frame)\n",
    "\n",
    "    def get_coordinate(self):\n",
    "        return self.result.xyxy[0]\n",
    "\n",
    "    def debug(self):\n",
    "        print(\"\\nDEBUG INFORMATION - Person Detection\")\n",
    "        print(\"FRAME\")\n",
    "        pprint(self.frame)\n",
    "        print(\"RESULT\")\n",
    "        pprint(self.result)      \n"
   ]
  },
  {
   "cell_type": "code",
   "execution_count": 3,
   "id": "1d37dbc3-ecc1-484b-82d1-6c727f1a17c6",
   "metadata": {},
   "outputs": [],
   "source": [
    "class SinglePoseEstimation():\n",
    "    def __init__(self):\n",
    "        self.mp_drawing = mp.solutions.drawing_utils\n",
    "        self.mp_pose = mp.solutions.pose\n",
    "\n",
    "        self.pose = self.mp_pose.Pose(min_detection_confidence=0.5, min_tracking_confidence=0.5)\n",
    "        \n",
    "        self.frame = None\n",
    "        self.result = None\n",
    "        self.landmarks = None\n",
    "        \n",
    "    \n",
    "    def set_frame(self, frame):\n",
    "        self.frame = frame\n",
    "\n",
    "    def estimate(self):\n",
    "        # Convert BGR to RGB\n",
    "        image = cv2.cvtColor(self.frame, cv2.COLOR_BGR2RGB)\n",
    "        image.flags.writeable = False\n",
    "        \n",
    "        # Process image\n",
    "        self.result = self.pose.process(image)\n",
    "    \n",
    "        # Convert RGB to BGR\n",
    "        image = cv2.cvtColor(image, cv2.COLOR_RGB2BGR)\n",
    "        image.flags.writeable = True\n",
    "\n",
    "    def get_landmarks(self):\n",
    "        # Extract feature\n",
    "        try:\n",
    "            self.landmarks = self.result.pose_landmarks.landmark\n",
    "            return self.landmarks\n",
    "        except:\n",
    "            return None\n",
    "    \n",
    "    def get_annotated_frame(self):\n",
    "        # Render detection\n",
    "        self.mp_drawing.draw_landmarks(self.frame, self.result.pose_landmarks, self.mp_pose.POSE_CONNECTIONS,\n",
    "                                self.mp_drawing.DrawingSpec(color=(245, 117, 66), thickness=2, circle_radius=2),\n",
    "                                self.mp_drawing.DrawingSpec(color=(245, 66, 230), thickness=2, circle_radius=2))\n",
    "        return self.frame\n",
    "        "
   ]
  },
  {
   "cell_type": "code",
   "execution_count": 4,
   "id": "744b3e33-810a-474b-a325-5934b65e05f4",
   "metadata": {},
   "outputs": [
    {
     "name": "stderr",
     "output_type": "stream",
     "text": [
      "Using cache found in /home/muzakki/.cache/torch/hub/ultralytics_yolov5_master\n",
      "YOLOv5 🚀 2023-12-9 Python-3.9.15 torch-2.1.0+cu121 CPU\n",
      "\n",
      "Fusing layers... \n",
      "YOLOv5s summary: 213 layers, 7225885 parameters, 0 gradients, 16.4 GFLOPs\n",
      "Adding AutoShape... \n"
     ]
    }
   ],
   "source": [
    "# Model\n",
    "yolo_model = torch.hub.load('ultralytics/yolov5', 'yolov5s')"
   ]
  },
  {
   "cell_type": "markdown",
   "id": "0b088161-907c-411c-b1dd-3e29ddce79dd",
   "metadata": {},
   "source": [
    "# ALL IN ONE PROCESS "
   ]
  },
  {
   "cell_type": "code",
   "execution_count": 6,
   "id": "1cb04a8f-efa8-477f-9c5c-9a89f15a7238",
   "metadata": {},
   "outputs": [
    {
     "name": "stdout",
     "output_type": "stream",
     "text": [
      "Inference time : 0.03 second | 30.297 mss"
     ]
    },
    {
     "name": "stderr",
     "output_type": "stream",
     "text": [
      "WARNING: All log messages before absl::InitializeLog() is called are written to STDERR\n",
      "I0000 00:00:1702300984.845947   11857 gl_context_egl.cc:85] Successfully initialized EGL. Major : 1 Minor: 5\n",
      "I0000 00:00:1702300984.892703   11986 gl_context.cc:344] GL version: 3.2 (OpenGL ES 3.2 NVIDIA 510.108.03), renderer: NVIDIA GeForce RTX 3060/PCIe/SSE2\n",
      "INFO: Created TensorFlow Lite XNNPACK delegate for CPU.\n"
     ]
    },
    {
     "name": "stdout",
     "output_type": "stream",
     "text": [
      "Inference time : 0.091 second | 90.585 mss"
     ]
    }
   ],
   "source": [
    "person_detector = PersonDetection(yolo_model)\n",
    "single_pose = SinglePoseEstimation()\n",
    "\n",
    "cap = cv2.VideoCapture(\"sample/rollin720.mp4\")\n",
    "w, h = int(cap.get(cv2.CAP_PROP_FRAME_WIDTH)), int(cap.get(cv2.CAP_PROP_FRAME_HEIGHT))\n",
    "while True:\n",
    "    ret, frame = cap.read()\n",
    "    if not ret:\n",
    "        break\n",
    "\n",
    "    start = time.time()\n",
    "    \n",
    "    person_detector.set_frame(frame)\n",
    "    person_detector.detect()\n",
    "    \n",
    "    for person in person_detector.get_coordinate():\n",
    "        x1, y1, x2, y2, confidence, _ = person.to(int)\n",
    "\n",
    "        cropped_frame = frame[y1:y2, x1:x2]\n",
    "\n",
    "        single_pose.set_frame(cropped_frame)\n",
    "        single_pose.estimate()\n",
    "\n",
    "        landmarks = single_pose.get_landmarks()\n",
    "        if landmarks is not None:\n",
    "            cropped_frame = single_pose.get_annotated_frame()\n",
    "            frame[y1:y2, x1:x2] = cropped_frame\n",
    "    \n",
    "    cv2.imshow(\"webcam\", frame)\n",
    "\n",
    "    end = time.time()\n",
    "    inference_time = end-start\n",
    "    print(f\"\\rInference time : {round(inference_time, 3)} second | {round((end-start)*1000, 3)} ms\", end='', flush=True)\n",
    "\n",
    "    # Break the loop if 'q' key is pressed\n",
    "    if cv2.waitKey(1) & 0xFF == ord('q'):\n",
    "        break\n",
    "\n",
    "# Release the capture object and close the window\n",
    "cap.release()\n",
    "cv2.destroyAllWindows()\n"
   ]
  },
  {
   "cell_type": "code",
   "execution_count": null,
   "id": "6688b588-fd37-40a7-b2dd-4d51e7251c03",
   "metadata": {},
   "outputs": [],
   "source": []
  },
  {
   "cell_type": "code",
   "execution_count": null,
   "id": "66017bdb-c8ea-4b0b-b3ce-586087069f22",
   "metadata": {},
   "outputs": [],
   "source": []
  },
  {
   "cell_type": "code",
   "execution_count": null,
   "id": "a2090baf-ac8a-49d6-98c2-074fee5c13ce",
   "metadata": {},
   "outputs": [],
   "source": [
    "left_ear = {\n",
    "    \"x\" : int(landmarks[single_pose.mp_pose.PoseLandmark.LEFT_EAR.value].x * w),\n",
    "    \"y\" : int(landmarks[single_pose.mp_pose.PoseLandmark.LEFT_EAR.value].y * h)\n",
    "}\n",
    "\n",
    "right_ear = {\n",
    "    \"x\" : int(landmarks[single_pose.mp_pose.PoseLandmark.RIGHT_EAR.value].x * w),\n",
    "    \"y\" : int(landmarks[single_pose.mp_pose.PoseLandmark.RIGHT_EAR.value].y * h)\n",
    "}\n",
    "\n",
    "left_shoulder = {\n",
    "    \"x\" : int(landmarks[single_pose.mp_pose.PoseLandmark.LEFT_SHOULDER.value].x * w),\n",
    "    \"y\" : int(landmarks[single_pose.mp_pose.PoseLandmark.LEFT_SHOULDER.value].y * h)\n",
    "}\n",
    "\n",
    "print((left_ear[\"x\"], 0))\n",
    "print((right_ear[\"x\"], left_shoulder[\"y\"]))\n",
    "\n",
    "# Draw the rectangle on the face\n",
    "cv2.rectangle(cropped_frame, (left_ear[\"x\"], 0), (right_ear[\"x\"], left_shoulder[\"y\"]), (255, 0, 0))"
   ]
  },
  {
   "cell_type": "code",
   "execution_count": null,
   "id": "74a28c89-5fed-48b0-a83b-b40ace40d434",
   "metadata": {},
   "outputs": [],
   "source": [
    "break"
   ]
  },
  {
   "cell_type": "code",
   "execution_count": null,
   "id": "d2e19de5-047b-45b4-be3e-fc697ea5adf7",
   "metadata": {},
   "outputs": [],
   "source": []
  },
  {
   "cell_type": "markdown",
   "id": "51a749e4-060d-46b8-9683-9b1034f232e4",
   "metadata": {},
   "source": [
    "# MULTIPROCESSING - ONLY MEDIA PIPE SKELETAL DETECTION"
   ]
  },
  {
   "cell_type": "code",
   "execution_count": null,
   "id": "22f70095-d9f0-40ec-88c2-81637b78285b",
   "metadata": {},
   "outputs": [],
   "source": [
    "person_detector = PersonDetection(yolo_model)\n",
    "single_pose = SinglePoseEstimation()"
   ]
  },
  {
   "cell_type": "code",
   "execution_count": null,
   "id": "d808e7c6-f70d-48e2-adc9-04cb4101f49c",
   "metadata": {},
   "outputs": [],
   "source": [
    "# Function to simulate a time-consuming task\n",
    "def detect_skeletal(cropped_frame):\n",
    "    single_pose.set_frame(cropped_frame)\n",
    "    single_pose.estimate()"
   ]
  },
  {
   "cell_type": "code",
   "execution_count": null,
   "id": "8ac1b5f6-871d-4ce0-83be-17d0cc7a5912",
   "metadata": {},
   "outputs": [],
   "source": [
    "cap = cv2.VideoCapture(\"sample/rollin720.mp4\")\n",
    "while True:\n",
    "    ret, frame = cap.read()\n",
    "    if not ret:\n",
    "        break\n",
    "\n",
    "    start = time.time()\n",
    "    \n",
    "    person_detector.set_frame(frame)\n",
    "    person_detector.detect()\n",
    "    \n",
    "    with ProcessPoolExecutor(3) as executor:\n",
    "        futures = []\n",
    "        for person in person_detector.get_coordinate():\n",
    "            x1, y1, x2, y2, confidence, _ = person.to(int)\n",
    "    \n",
    "            cropped_frame = frame[y1:y2, x1:x2]\n",
    "\n",
    "            # Submit tasks to the executor\n",
    "            futures.append(executor.submit(detect_skeletal, cropped_frame))\n",
    "    \n",
    "            # single_pose.set_frame(cropped_frame)\n",
    "            # single_pose.estimate()\n",
    "\n",
    "        # Wait for all tasks to complete\n",
    "        results = [future.result() for future in futures]\n",
    "\n",
    "        # for result in results:\n",
    "        #     if single_pose.get_landmarks() is not None:\n",
    "        #         cropped_frame = single_pose.get_annotated_frame()\n",
    "        #         frame[y1:y2, x1:x2] = cropped_frame\n",
    "    \n",
    "    cv2.imshow(\"webcam\", frame)\n",
    "\n",
    "    end = time.time()\n",
    "    inference_time = end-start\n",
    "    print(f\"\\rInference time : {round(inference_time, 3)} second | {round((end-start)*1000, 3)} ms\", end='', flush=True)\n",
    "\n",
    "    # Break the loop if 'q' key is pressed\n",
    "    if cv2.waitKey(1) & 0xFF == ord('q'):\n",
    "        break\n",
    "\n",
    "# Release the capture object and close the window\n",
    "cap.release()\n",
    "cv2.destroyAllWindows()\n"
   ]
  },
  {
   "cell_type": "code",
   "execution_count": null,
   "id": "7e32fe3f-1095-41b1-bd3a-bd88e0e6ad49",
   "metadata": {},
   "outputs": [],
   "source": []
  }
 ],
 "metadata": {
  "kernelspec": {
   "display_name": "Python 3 (ipykernel)",
   "language": "python",
   "name": "python3"
  },
  "language_info": {
   "codemirror_mode": {
    "name": "ipython",
    "version": 3
   },
   "file_extension": ".py",
   "mimetype": "text/x-python",
   "name": "python",
   "nbconvert_exporter": "python",
   "pygments_lexer": "ipython3",
   "version": "3.9.15"
  }
 },
 "nbformat": 4,
 "nbformat_minor": 5
}
