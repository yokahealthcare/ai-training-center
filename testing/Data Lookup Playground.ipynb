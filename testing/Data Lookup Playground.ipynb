{
 "cells": [
  {
   "cell_type": "code",
   "execution_count": 1,
   "id": "952ed2e5-e913-4ee0-aa9f-e7c557c3174e",
   "metadata": {},
   "outputs": [],
   "source": [
    "import pandas as pd"
   ]
  },
  {
   "cell_type": "code",
   "execution_count": 2,
   "id": "5bd1a6a9-52bd-4213-a9a7-5260846fdc10",
   "metadata": {},
   "outputs": [],
   "source": [
    "df = pd.read_csv(\"../data-gathering/combined_result/23122023_yolov8_extracted_angel_advance.csv\")"
   ]
  },
  {
   "cell_type": "code",
   "execution_count": 3,
   "id": "9e2f49ee-af31-4047-b9e3-053538b1f009",
   "metadata": {},
   "outputs": [
    {
     "data": {
      "text/plain": [
       "class\n",
       "0.0    5753\n",
       "1.0     665\n",
       "Name: count, dtype: int64"
      ]
     },
     "execution_count": 3,
     "metadata": {},
     "output_type": "execute_result"
    }
   ],
   "source": [
    "df[\"class\"].value_counts()"
   ]
  },
  {
   "cell_type": "code",
   "execution_count": 4,
   "id": "25b4869b-e2c6-476a-9782-8ae7e3c191cb",
   "metadata": {},
   "outputs": [
    {
     "data": {
      "text/plain": [
       "(6418, 17)"
      ]
     },
     "execution_count": 4,
     "metadata": {},
     "output_type": "execute_result"
    }
   ],
   "source": [
    "df.shape"
   ]
  },
  {
   "cell_type": "code",
   "execution_count": null,
   "id": "87d44b1e-9de5-404e-bab8-497494dea327",
   "metadata": {},
   "outputs": [],
   "source": []
  },
  {
   "cell_type": "code",
   "execution_count": 5,
   "id": "040d4495-5723-43cc-8f1c-94dc7bc4efec",
   "metadata": {},
   "outputs": [],
   "source": [
    "df = pd.read_csv(\"../data-gathering/combined_result/30122023_yolov8_extracted_angel_advance.csv\")"
   ]
  },
  {
   "cell_type": "code",
   "execution_count": 6,
   "id": "c4ca60bd-b0d3-49db-a7aa-f2d1c729baaa",
   "metadata": {},
   "outputs": [
    {
     "data": {
      "text/plain": [
       "class\n",
       "0.0    5753\n",
       "1.0    1742\n",
       "Name: count, dtype: int64"
      ]
     },
     "execution_count": 6,
     "metadata": {},
     "output_type": "execute_result"
    }
   ],
   "source": [
    "df[\"class\"].value_counts()"
   ]
  },
  {
   "cell_type": "code",
   "execution_count": 7,
   "id": "4b5fee45-894c-48ed-9c7a-6e1ab12909c9",
   "metadata": {},
   "outputs": [
    {
     "data": {
      "text/plain": [
       "(7495, 17)"
      ]
     },
     "execution_count": 7,
     "metadata": {},
     "output_type": "execute_result"
    }
   ],
   "source": [
    "df.shape"
   ]
  },
  {
   "cell_type": "code",
   "execution_count": 8,
   "id": "6f7368f9-42a2-43c5-a3bc-7756bc7844f5",
   "metadata": {},
   "outputs": [
    {
     "data": {
      "text/plain": [
       "0.30279853989223016"
      ]
     },
     "execution_count": 8,
     "metadata": {},
     "output_type": "execute_result"
    }
   ],
   "source": [
    "1742 / 5753"
   ]
  },
  {
   "cell_type": "code",
   "execution_count": null,
   "id": "64a61f8d-c7cf-4c07-8ea6-58858d040ae4",
   "metadata": {},
   "outputs": [],
   "source": []
  }
 ],
 "metadata": {
  "kernelspec": {
   "display_name": "Python 3 (ipykernel)",
   "language": "python",
   "name": "python3"
  },
  "language_info": {
   "codemirror_mode": {
    "name": "ipython",
    "version": 3
   },
   "file_extension": ".py",
   "mimetype": "text/x-python",
   "name": "python",
   "nbconvert_exporter": "python",
   "pygments_lexer": "ipython3",
   "version": "3.9.15"
  }
 },
 "nbformat": 4,
 "nbformat_minor": 5
}
